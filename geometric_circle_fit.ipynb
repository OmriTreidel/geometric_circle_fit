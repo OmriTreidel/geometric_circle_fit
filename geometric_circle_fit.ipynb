{
 "cells": [
  {
   "cell_type": "code",
   "execution_count": 2,
   "metadata": {},
   "outputs": [],
   "source": [
    "import numpy as np\n",
    "import matplotlib.pyplot as plt\n",
    "from numpy import pi"
   ]
  },
  {
   "cell_type": "markdown",
   "metadata": {},
   "source": [
    "The radial residuals are \n",
    "$$ dr_n = r_n - R $$ \n",
    "where \n",
    "$$ r_n = \\sqrt (x_n - c_x)^2 + (y_n - c_y)^2. $$\n",
    "For errors much smaller than the radius ($r_n \\approx R$) we obtain\n",
    "$$ dr_n = (r_n - R) \\approx \\frac{(r_n - R)(r_n + R)}{2R} $$\n",
    "\n",
    "The squareed residals are\n",
    "$$ dr_n ^2 = \\frac{(r_n^2 - R^2)^2}{4R^2} = \\frac{(r_n^2 - \\rho)^2}{4 \\rho}$$\n",
    "\n",
    "We therefore want to optimize\n",
    "$$J = \\frac{1}{2\\rho}\\sum_n \\left[ (x_n - c_x)^2 + (y_n - c_y)^2 - \\rho \\right]^2$$\n",
    "\n",
    "By ignoring the $1/(2\\rho)$ we can get a very simple solution presented below\n",
    "\n",
    "$$ \\left(\\overline{x y} - \\overline{x} \\overline{y} \\right) c_x + Var(y) c_y = \\frac{1}{2} \\left( \\overline{y^3} \n",
    "- \\bar{y}(\\overline{x^2} + \\overline{y^2}) + \\overline{x^2 y} \\right)$$\n",
    "\n",
    "$$ Var(x) c_x + \\left(\\overline{x y} - \\overline{x} \\overline{y} \\right) c_y = \\frac{1}{2} \\left( \\overline{x^3} \n",
    "- \\bar{x}(\\overline{x^2} + \\overline{y^2}) + \\overline{x y^2} \\right)$$\n"
   ]
  },
  {
   "cell_type": "code",
   "execution_count": 92,
   "metadata": {},
   "outputs": [],
   "source": [
    "# generate fake data\n",
    "\n",
    "# circle parameters\n",
    "Cx = 1.3\n",
    "Cy = -4.3\n",
    "R = 1.0\n",
    "\n",
    "N = 120 # number of points in a full circle\n",
    "t = np.arange(N/2)\n",
    "x = R * np.cos(2*pi*t/N) + Cx\n",
    "y = R * np.sin(2*pi*t/N) + Cy\n",
    "\n",
    "# add noise\n",
    "x += 0.05*R*np.random.randn(len(x))\n",
    "y += 0.05*R*np.random.randn(len(y))"
   ]
  },
  {
   "cell_type": "code",
   "execution_count": 94,
   "metadata": {},
   "outputs": [
    {
     "data": {
      "text/plain": [
       "(0.18833931048521713,\n",
       " 2.4488342054210035,\n",
       " -4.38189172408093,\n",
       " -3.1496053204800725)"
      ]
     },
     "execution_count": 94,
     "metadata": {},
     "output_type": "execute_result"
    },
    {
     "data": {
      "image/png": "[encoded data removed]",
      "text/plain": [
       "<Figure size 432x288 with 1 Axes>"
      ]
     },
     "metadata": {
      "needs_background": "light"
     },
     "output_type": "display_data"
    }
   ],
   "source": [
    "cor_xy = (x * y).mean() - x.mean() * y.mean()\n",
    "var_x = np.var(x)\n",
    "var_y = np.var(y)\n",
    "A = np.array([[var_x, cor_xy], [cor_xy, var_y]])\n",
    "\n",
    "r2 = (x**2).mean() + (y**2).mean()\n",
    "By = 0.5*( (y**3).mean() - y.mean() * r2 + np.mean(y * x**2) )\n",
    "Bx = 0.5*( (x**3).mean() - x.mean() * r2 + np.mean(x * y**2) )\n",
    "x0, y0 = np.linalg.solve(A, np.array([Bx, By]))\n",
    "r = np.mean((x - x0)**2 + (y - y0)**2)\n",
    "\n",
    "# plot the fitted circle\n",
    "xf = np.sqrt(r) * np.cos(2*pi*t/N) + x0\n",
    "yf = np.sqrt(r) * np.sin(2*pi*t/N) + y0\n",
    "\n",
    "plt.plot(x0, y0, \"xk\", ms=8)\n",
    "plt.plot(xf, yf)\n",
    "plt.plot(Cx, Cy, \"or\")\n",
    "plt.plot(x, y, '.')\n",
    "plt.legend(['fitted center', 'fitted circle', 'real center', 'data points'])\n",
    "plt.axis('equal')"
   ]
  },
  {
   "cell_type": "code",
   "execution_count": null,
   "metadata": {},
   "outputs": [],
   "source": []
  },
  {
   "cell_type": "code",
   "execution_count": null,
   "metadata": {},
   "outputs": [],
   "source": []
  }
 ],
 "metadata": {
  "kernelspec": {
   "display_name": "analyzer",
   "language": "python",
   "name": "analyzer"
  },
  "language_info": {
   "codemirror_mode": {
    "name": "ipython",
    "version": 2
   },
   "file_extension": ".py",
   "mimetype": "text/x-python",
   "name": "python",
   "nbconvert_exporter": "python",
   "pygments_lexer": "ipython2",
   "version": "2.7.15+"
  }
 },
 "nbformat": 4,
 "nbformat_minor": 2
}
